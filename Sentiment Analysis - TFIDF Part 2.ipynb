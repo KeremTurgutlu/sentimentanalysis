{
 "cells": [
  {
   "cell_type": "code",
   "execution_count": 19,
   "metadata": {
    "collapsed": false
   },
   "outputs": [
    {
     "name": "stderr",
     "output_type": "stream",
     "text": [
      "b'Skipping line 4: expected 5 fields, saw 6\\nSkipping line 5: expected 5 fields, saw 6\\nSkipping line 6: expected 5 fields, saw 6\\nSkipping line 11: expected 5 fields, saw 6\\nSkipping line 12: expected 5 fields, saw 6\\nSkipping line 26: expected 5 fields, saw 6\\nSkipping line 29: expected 5 fields, saw 6\\nSkipping line 37: expected 5 fields, saw 6\\nSkipping line 46: expected 5 fields, saw 6\\nSkipping line 55: expected 5 fields, saw 6\\nSkipping line 66: expected 5 fields, saw 6\\nSkipping line 68: expected 5 fields, saw 6\\nSkipping line 77: expected 5 fields, saw 6\\nSkipping line 88: expected 5 fields, saw 6\\nSkipping line 96: expected 5 fields, saw 6\\nSkipping line 113: expected 5 fields, saw 6\\nSkipping line 114: expected 5 fields, saw 6\\nSkipping line 115: expected 5 fields, saw 6\\nSkipping line 116: expected 5 fields, saw 6\\nSkipping line 121: expected 5 fields, saw 6\\nSkipping line 124: expected 5 fields, saw 6\\nSkipping line 143: expected 5 fields, saw 6\\nSkipping line 153: expected 5 fields, saw 6\\nSkipping line 154: expected 5 fields, saw 6\\nSkipping line 163: expected 5 fields, saw 6\\nSkipping line 165: expected 5 fields, saw 6\\nSkipping line 174: expected 5 fields, saw 6\\nSkipping line 177: expected 5 fields, saw 6\\nSkipping line 183: expected 5 fields, saw 6\\nSkipping line 184: expected 5 fields, saw 6\\nSkipping line 185: expected 5 fields, saw 6\\nSkipping line 186: expected 5 fields, saw 6\\nSkipping line 198: expected 5 fields, saw 6\\nSkipping line 219: expected 5 fields, saw 6\\nSkipping line 230: expected 5 fields, saw 6\\nSkipping line 239: expected 5 fields, saw 6\\nSkipping line 246: expected 5 fields, saw 6\\nSkipping line 248: expected 5 fields, saw 6\\nSkipping line 253: expected 5 fields, saw 6\\nSkipping line 260: expected 5 fields, saw 6\\nSkipping line 264: expected 5 fields, saw 6\\nSkipping line 267: expected 5 fields, saw 6\\nSkipping line 270: expected 5 fields, saw 6\\n'\n",
      "b'Skipping line 12: expected 5 fields, saw 6\\nSkipping line 15: expected 5 fields, saw 6\\nSkipping line 20: expected 5 fields, saw 6\\nSkipping line 23: expected 5 fields, saw 6\\nSkipping line 25: expected 5 fields, saw 6\\nSkipping line 26: expected 5 fields, saw 6\\nSkipping line 28: expected 5 fields, saw 6\\nSkipping line 32: expected 5 fields, saw 6\\nSkipping line 48: expected 5 fields, saw 6\\nSkipping line 50: expected 5 fields, saw 6\\nSkipping line 52: expected 5 fields, saw 6\\nSkipping line 58: expected 5 fields, saw 6\\nSkipping line 59: expected 5 fields, saw 6\\nSkipping line 61: expected 5 fields, saw 6\\nSkipping line 66: expected 5 fields, saw 6\\nSkipping line 68: expected 5 fields, saw 6\\nSkipping line 70: expected 5 fields, saw 6\\nSkipping line 78: expected 5 fields, saw 6\\nSkipping line 97: expected 5 fields, saw 6\\nSkipping line 99: expected 5 fields, saw 6\\nSkipping line 101: expected 5 fields, saw 6\\nSkipping line 105: expected 5 fields, saw 6\\nSkipping line 112: expected 5 fields, saw 6\\nSkipping line 115: expected 5 fields, saw 6\\nSkipping line 125: expected 5 fields, saw 6\\nSkipping line 132: expected 5 fields, saw 6\\nSkipping line 134: expected 5 fields, saw 6\\nSkipping line 135: expected 5 fields, saw 6\\nSkipping line 139: expected 5 fields, saw 6\\nSkipping line 144: expected 5 fields, saw 6\\nSkipping line 147: expected 5 fields, saw 6\\nSkipping line 162: expected 5 fields, saw 6\\nSkipping line 163: expected 5 fields, saw 6\\nSkipping line 168: expected 5 fields, saw 6\\nSkipping line 173: expected 5 fields, saw 6\\nSkipping line 177: expected 5 fields, saw 6\\nSkipping line 181: expected 5 fields, saw 6\\nSkipping line 184: expected 5 fields, saw 6\\nSkipping line 189: expected 5 fields, saw 6\\nSkipping line 192: expected 5 fields, saw 6\\nSkipping line 195: expected 5 fields, saw 6\\nSkipping line 197: expected 5 fields, saw 6\\nSkipping line 199: expected 5 fields, saw 6\\nSkipping line 200: expected 5 fields, saw 6\\nSkipping line 202: expected 5 fields, saw 6\\nSkipping line 203: expected 5 fields, saw 6\\nSkipping line 205: expected 5 fields, saw 6\\nSkipping line 207: expected 5 fields, saw 6\\nSkipping line 210: expected 5 fields, saw 6\\nSkipping line 211: expected 5 fields, saw 6\\nSkipping line 212: expected 5 fields, saw 6\\nSkipping line 213: expected 5 fields, saw 6\\nSkipping line 217: expected 5 fields, saw 6\\nSkipping line 222: expected 5 fields, saw 6\\nSkipping line 225: expected 5 fields, saw 6\\nSkipping line 229: expected 5 fields, saw 6\\nSkipping line 240: expected 5 fields, saw 6\\nSkipping line 242: expected 5 fields, saw 6\\nSkipping line 245: expected 5 fields, saw 6\\nSkipping line 266: expected 5 fields, saw 6\\nSkipping line 284: expected 5 fields, saw 6\\nSkipping line 293: expected 5 fields, saw 6\\nSkipping line 310: expected 5 fields, saw 6\\nSkipping line 317: expected 5 fields, saw 6\\nSkipping line 326: expected 5 fields, saw 6\\nSkipping line 328: expected 5 fields, saw 6\\nSkipping line 350: expected 5 fields, saw 6\\nSkipping line 366: expected 5 fields, saw 6\\nSkipping line 369: expected 5 fields, saw 6\\nSkipping line 375: expected 5 fields, saw 6\\nSkipping line 379: expected 5 fields, saw 6\\nSkipping line 387: expected 5 fields, saw 6\\nSkipping line 389: expected 5 fields, saw 6\\nSkipping line 405: expected 5 fields, saw 6\\nSkipping line 413: expected 5 fields, saw 6\\nSkipping line 417: expected 5 fields, saw 6\\nSkipping line 418: expected 5 fields, saw 6\\nSkipping line 420: expected 5 fields, saw 6\\nSkipping line 421: expected 5 fields, saw 6\\nSkipping line 423: expected 5 fields, saw 6\\nSkipping line 428: expected 5 fields, saw 6\\nSkipping line 436: expected 5 fields, saw 6\\nSkipping line 438: expected 5 fields, saw 6\\nSkipping line 444: expected 5 fields, saw 6\\nSkipping line 447: expected 5 fields, saw 6\\nSkipping line 448: expected 5 fields, saw 6\\nSkipping line 449: expected 5 fields, saw 6\\nSkipping line 451: expected 5 fields, saw 6\\nSkipping line 453: expected 5 fields, saw 6\\nSkipping line 454: expected 5 fields, saw 6\\nSkipping line 465: expected 5 fields, saw 6\\nSkipping line 466: expected 5 fields, saw 6\\nSkipping line 467: expected 5 fields, saw 6\\nSkipping line 473: expected 5 fields, saw 6\\nSkipping line 474: expected 5 fields, saw 6\\nSkipping line 482: expected 5 fields, saw 6\\nSkipping line 488: expected 5 fields, saw 6\\nSkipping line 493: expected 5 fields, saw 6\\nSkipping line 495: expected 5 fields, saw 6\\nSkipping line 508: expected 5 fields, saw 6\\nSkipping line 512: expected 5 fields, saw 6\\nSkipping line 535: expected 5 fields, saw 6\\n'\n",
      "b'Skipping line 5: expected 5 fields, saw 6\\nSkipping line 6: expected 5 fields, saw 6\\nSkipping line 15: expected 5 fields, saw 6\\nSkipping line 17: expected 5 fields, saw 6\\nSkipping line 26: expected 5 fields, saw 6\\nSkipping line 33: expected 5 fields, saw 6\\nSkipping line 39: expected 5 fields, saw 6\\nSkipping line 45: expected 5 fields, saw 6\\nSkipping line 52: expected 5 fields, saw 6\\nSkipping line 53: expected 5 fields, saw 6\\nSkipping line 55: expected 5 fields, saw 6\\nSkipping line 59: expected 5 fields, saw 6\\nSkipping line 60: expected 5 fields, saw 6\\nSkipping line 65: expected 5 fields, saw 6\\nSkipping line 66: expected 5 fields, saw 6\\nSkipping line 72: expected 5 fields, saw 6\\nSkipping line 73: expected 5 fields, saw 6\\nSkipping line 78: expected 5 fields, saw 6\\nSkipping line 84: expected 5 fields, saw 6\\nSkipping line 87: expected 5 fields, saw 6\\nSkipping line 89: expected 5 fields, saw 6\\nSkipping line 90: expected 5 fields, saw 6\\nSkipping line 92: expected 5 fields, saw 6\\nSkipping line 94: expected 5 fields, saw 6\\nSkipping line 96: expected 5 fields, saw 6\\nSkipping line 103: expected 5 fields, saw 6\\nSkipping line 106: expected 5 fields, saw 6\\nSkipping line 109: expected 5 fields, saw 6\\nSkipping line 120: expected 5 fields, saw 6\\nSkipping line 125: expected 5 fields, saw 6\\nSkipping line 127: expected 5 fields, saw 6\\nSkipping line 130: expected 5 fields, saw 6\\nSkipping line 136: expected 5 fields, saw 6\\nSkipping line 138: expected 5 fields, saw 6\\nSkipping line 143: expected 5 fields, saw 6\\nSkipping line 144: expected 5 fields, saw 6\\nSkipping line 159: expected 5 fields, saw 6\\nSkipping line 163: expected 5 fields, saw 6\\nSkipping line 164: expected 5 fields, saw 6\\nSkipping line 169: expected 5 fields, saw 6\\nSkipping line 173: expected 5 fields, saw 6\\nSkipping line 175: expected 5 fields, saw 6\\nSkipping line 178: expected 5 fields, saw 6\\nSkipping line 187: expected 5 fields, saw 6\\nSkipping line 188: expected 5 fields, saw 6\\nSkipping line 190: expected 5 fields, saw 6\\nSkipping line 194: expected 5 fields, saw 6\\nSkipping line 199: expected 5 fields, saw 6\\nSkipping line 205: expected 5 fields, saw 6\\nSkipping line 217: expected 5 fields, saw 6\\nSkipping line 219: expected 5 fields, saw 6\\nSkipping line 221: expected 5 fields, saw 6\\nSkipping line 225: expected 5 fields, saw 6\\nSkipping line 227: expected 5 fields, saw 6\\n'\n"
     ]
    }
   ],
   "source": [
    "#Merging all restaurant data \n",
    "\n",
    "import glob\n",
    "import pandas as pd\n",
    "\n",
    "# get data file names\n",
    "path =r\"C:/Users/YESIM/Desktop/TEXT MINING PROJECT/AMSTERDAM/RESTAURANTS/All\"\n",
    "filenames = glob.glob(path + \"/*.csv\")\n",
    "\n",
    "dfs = []\n",
    "for filename in filenames:\n",
    "    dfs.append(pd.read_csv(filename, error_bad_lines=False) )\n",
    "\n",
    "# Concatenate all data into one DataFrame\n",
    "df = pd.concat(dfs, ignore_index=True)\n",
    "\n"
   ]
  },
  {
   "cell_type": "code",
   "execution_count": 20,
   "metadata": {
    "collapsed": false
   },
   "outputs": [],
   "source": [
    "#Data Preparation\n",
    "\n",
    "import numpy as np \n",
    "\n",
    "df = df.fillna(value=str(0))\n",
    "\n",
    "df[\"full_text\"] = df[\"title\"] + \". \" + df[\"review\"]\n",
    "\n",
    "#Reviews with 3 stars or lower are negative sentiment and others are positive sentiment \n",
    "def get_class(stars):\n",
    "    score = int(stars[0])\n",
    "    if score > 3:\n",
    "        return 1\n",
    "    else:\n",
    "        return 0\n",
    "\n",
    "def review_count(review_count):\n",
    "    return review_count[0]\n",
    "\n",
    "def help_count(help_count):\n",
    "    return help_count[0]\n",
    "\n",
    "def del_more(full_text):\n",
    "    if full_text[-1] == \"e\" and full_text[-2] == \"r\" and full_text[-3] == \"o\" and full_text[-4] == \"M\":\n",
    "        return full_text[0:-8]\n",
    "    else:\n",
    "        return full_text\n",
    "    \n",
    "df[\"review count\"] = df[\"review_count\"].apply(review_count).astype(int)\n",
    "df[\"help count\"] = df[\"help_count\"].apply(help_count).astype(int)\n",
    "df[\"sentiment\"] = df[\"stars\"].apply(get_class)\n",
    "df[\"id\"] = range(0,len(df))\n",
    "df[\"full_text\"] = df[\"full_text\"].apply(del_more)\n",
    "\n",
    "df_sent = df[[\"full_text\", \"sentiment\"]]\n",
    "\n"
   ]
  },
  {
   "cell_type": "code",
   "execution_count": 21,
   "metadata": {
    "collapsed": false
   },
   "outputs": [
    {
     "name": "stderr",
     "output_type": "stream",
     "text": [
      "C:\\Users\\YESIM\\Anaconda3\\lib\\site-packages\\ipykernel\\__main__.py:11: SettingWithCopyWarning: \n",
      "A value is trying to be set on a copy of a slice from a DataFrame.\n",
      "Try using .loc[row_indexer,col_indexer] = value instead\n",
      "\n",
      "See the caveats in the documentation: http://pandas.pydata.org/pandas-docs/stable/indexing.html#indexing-view-versus-copy\n",
      "C:\\Users\\YESIM\\Anaconda3\\lib\\site-packages\\sklearn\\utils\\__init__.py:93: DeprecationWarning: Function transform is deprecated; Support to use estimators as feature selectors will be removed in version 0.19. Use SelectFromModel instead.\n",
      "  warnings.warn(msg, category=DeprecationWarning)\n"
     ]
    },
    {
     "name": "stdout",
     "output_type": "stream",
     "text": [
      "Accuracy: 0.945053\n",
      "Precision: 0.976670\n",
      "Recall: 0.980180\n",
      "F1 score(micro): 0.968095\n",
      "TN/(TN+FN): 0.745242 -- Increases fundamentaly.\n"
     ]
    },
    {
     "name": "stderr",
     "output_type": "stream",
     "text": [
      "C:\\Users\\YESIM\\Anaconda3\\lib\\site-packages\\sklearn\\metrics\\classification.py:976: DeprecationWarning: From version 0.18, binary input will not be handled specially when using averaged precision/recall/F-score. Please use average='binary' to report only the positive class performance.\n",
      "  'positive class performance.', DeprecationWarning)\n"
     ]
    }
   ],
   "source": [
    "#Bag of Words Method / Python Machine Learning Book\n",
    "\n",
    "#Preprocess text data get rid of punctuations, deal with emoticons, capital letters and delete html markups by using regular expressions library\n",
    "import re\n",
    "def preprocess(text):\n",
    "    text = re.sub('<[^>]*>', '', text)\n",
    "    emoticons = re.findall('(?::|;|=)(?:-)?(?:\\)|\\(|D|P)', text)\n",
    "    text = re.sub('[\\W]+', ' ', text.lower()) + ''.join(emoticons).replace('-', '')\n",
    "    \n",
    "    return text\n",
    "df_sent[\"full_text\"] = df[\"full_text\"].apply(preprocess)\n",
    "\n",
    "#Tokenizing documents via Porter Stemmer Algorithm\n",
    "def tokenizer(text):\n",
    "    return text.split()\n",
    "from nltk.stem.porter import PorterStemmer\n",
    "porter = PorterStemmer()\n",
    "def tokenizer_porter(text):\n",
    "    return [porter.stem(word) for word in text.split()]\n",
    "\n",
    "#Remove stop words\n",
    "\n",
    "from nltk.corpus import stopwords\n",
    "stop = stopwords.words(\"english\")\n",
    "\n",
    "#Splitting data into training and test sets\n",
    "X = df_sent[\"full_text\"].values\n",
    "y = df_sent[\"sentiment\"].values\n",
    "from sklearn.cross_validation import train_test_split\n",
    "X_train, X_test, y_train,y_test = train_test_split(X, y, test_size=0.33, random_state=1)\n",
    "\n",
    "#Train Model for sentiment analysis and evaluation\n",
    "from sklearn.pipeline import Pipeline\n",
    "from sklearn.linear_model import LogisticRegression\n",
    "from sklearn.feature_extraction.text import TfidfVectorizer\n",
    "\n",
    "\n",
    "tfidf = TfidfVectorizer(strip_accents=None,\n",
    "    lowercase=False,\n",
    "    preprocessor=None, stop_words = None, ngram_range = (1,1), tokenizer = tokenizer)\n",
    "\n",
    "lr_tfidf = Pipeline([('vect', tfidf),\n",
    "                     ('clf',\n",
    "    LogisticRegression(random_state=0, C=10.0, penalty = \"l2\"))])\n",
    "\n",
    "lr_tfidf.fit_transform(X_train, y_train)\n",
    "pred = lr_tfidf.predict(X_test)\n",
    "Accuracy = lr_tfidf.score(X_test, y_test)\n",
    "\n",
    "from sklearn.metrics import average_precision_score, recall_score\n",
    "\n",
    "precision = average_precision_score(y_test, pred)\n",
    "recall = recall_score(y_test, pred)\n",
    "from sklearn.metrics import f1_score\n",
    "f_score = f1_score(y_test, pred, average = \"micro\")\n",
    "\n",
    "print(\"Accuracy: %f\\nPrecision: %f\\nRecall: %f\\nF1 score(micro): %f\" %(Accuracy, precision ,recall, f_score))\n",
    "TN_Ratio = 1 - (np.sum(pred[y_test == 0])/len(pred[y_test == 0]))\n",
    "print(\"TN/(TN+FN): %f -- Increases fundamentaly.\" %TN_Ratio )"
   ]
  },
  {
   "cell_type": "code",
   "execution_count": 31,
   "metadata": {
    "collapsed": false
   },
   "outputs": [
    {
     "name": "stderr",
     "output_type": "stream",
     "text": [
      "b'Skipping line 4: expected 5 fields, saw 6\\nSkipping line 5: expected 5 fields, saw 6\\nSkipping line 6: expected 5 fields, saw 6\\nSkipping line 11: expected 5 fields, saw 6\\nSkipping line 12: expected 5 fields, saw 6\\nSkipping line 26: expected 5 fields, saw 6\\nSkipping line 29: expected 5 fields, saw 6\\nSkipping line 37: expected 5 fields, saw 6\\nSkipping line 46: expected 5 fields, saw 6\\nSkipping line 55: expected 5 fields, saw 6\\nSkipping line 66: expected 5 fields, saw 6\\nSkipping line 68: expected 5 fields, saw 6\\nSkipping line 77: expected 5 fields, saw 6\\nSkipping line 88: expected 5 fields, saw 6\\nSkipping line 96: expected 5 fields, saw 6\\nSkipping line 113: expected 5 fields, saw 6\\nSkipping line 114: expected 5 fields, saw 6\\nSkipping line 115: expected 5 fields, saw 6\\nSkipping line 116: expected 5 fields, saw 6\\nSkipping line 121: expected 5 fields, saw 6\\nSkipping line 124: expected 5 fields, saw 6\\nSkipping line 143: expected 5 fields, saw 6\\nSkipping line 153: expected 5 fields, saw 6\\nSkipping line 154: expected 5 fields, saw 6\\nSkipping line 163: expected 5 fields, saw 6\\nSkipping line 165: expected 5 fields, saw 6\\nSkipping line 174: expected 5 fields, saw 6\\nSkipping line 177: expected 5 fields, saw 6\\nSkipping line 183: expected 5 fields, saw 6\\nSkipping line 184: expected 5 fields, saw 6\\nSkipping line 185: expected 5 fields, saw 6\\nSkipping line 186: expected 5 fields, saw 6\\nSkipping line 198: expected 5 fields, saw 6\\nSkipping line 219: expected 5 fields, saw 6\\nSkipping line 230: expected 5 fields, saw 6\\nSkipping line 239: expected 5 fields, saw 6\\nSkipping line 246: expected 5 fields, saw 6\\nSkipping line 248: expected 5 fields, saw 6\\nSkipping line 253: expected 5 fields, saw 6\\nSkipping line 260: expected 5 fields, saw 6\\nSkipping line 264: expected 5 fields, saw 6\\nSkipping line 267: expected 5 fields, saw 6\\nSkipping line 270: expected 5 fields, saw 6\\n'\n",
      "b'Skipping line 12: expected 5 fields, saw 6\\nSkipping line 15: expected 5 fields, saw 6\\nSkipping line 20: expected 5 fields, saw 6\\nSkipping line 23: expected 5 fields, saw 6\\nSkipping line 25: expected 5 fields, saw 6\\nSkipping line 26: expected 5 fields, saw 6\\nSkipping line 28: expected 5 fields, saw 6\\nSkipping line 32: expected 5 fields, saw 6\\nSkipping line 48: expected 5 fields, saw 6\\nSkipping line 50: expected 5 fields, saw 6\\nSkipping line 52: expected 5 fields, saw 6\\nSkipping line 58: expected 5 fields, saw 6\\nSkipping line 59: expected 5 fields, saw 6\\nSkipping line 61: expected 5 fields, saw 6\\nSkipping line 66: expected 5 fields, saw 6\\nSkipping line 68: expected 5 fields, saw 6\\nSkipping line 70: expected 5 fields, saw 6\\nSkipping line 78: expected 5 fields, saw 6\\nSkipping line 97: expected 5 fields, saw 6\\nSkipping line 99: expected 5 fields, saw 6\\nSkipping line 101: expected 5 fields, saw 6\\nSkipping line 105: expected 5 fields, saw 6\\nSkipping line 112: expected 5 fields, saw 6\\nSkipping line 115: expected 5 fields, saw 6\\nSkipping line 125: expected 5 fields, saw 6\\nSkipping line 132: expected 5 fields, saw 6\\nSkipping line 134: expected 5 fields, saw 6\\nSkipping line 135: expected 5 fields, saw 6\\nSkipping line 139: expected 5 fields, saw 6\\nSkipping line 144: expected 5 fields, saw 6\\nSkipping line 147: expected 5 fields, saw 6\\nSkipping line 162: expected 5 fields, saw 6\\nSkipping line 163: expected 5 fields, saw 6\\nSkipping line 168: expected 5 fields, saw 6\\nSkipping line 173: expected 5 fields, saw 6\\nSkipping line 177: expected 5 fields, saw 6\\nSkipping line 181: expected 5 fields, saw 6\\nSkipping line 184: expected 5 fields, saw 6\\nSkipping line 189: expected 5 fields, saw 6\\nSkipping line 192: expected 5 fields, saw 6\\nSkipping line 195: expected 5 fields, saw 6\\nSkipping line 197: expected 5 fields, saw 6\\nSkipping line 199: expected 5 fields, saw 6\\nSkipping line 200: expected 5 fields, saw 6\\nSkipping line 202: expected 5 fields, saw 6\\nSkipping line 203: expected 5 fields, saw 6\\nSkipping line 205: expected 5 fields, saw 6\\nSkipping line 207: expected 5 fields, saw 6\\nSkipping line 210: expected 5 fields, saw 6\\nSkipping line 211: expected 5 fields, saw 6\\nSkipping line 212: expected 5 fields, saw 6\\nSkipping line 213: expected 5 fields, saw 6\\nSkipping line 217: expected 5 fields, saw 6\\nSkipping line 222: expected 5 fields, saw 6\\nSkipping line 225: expected 5 fields, saw 6\\nSkipping line 229: expected 5 fields, saw 6\\nSkipping line 240: expected 5 fields, saw 6\\nSkipping line 242: expected 5 fields, saw 6\\nSkipping line 245: expected 5 fields, saw 6\\nSkipping line 266: expected 5 fields, saw 6\\nSkipping line 284: expected 5 fields, saw 6\\nSkipping line 293: expected 5 fields, saw 6\\nSkipping line 310: expected 5 fields, saw 6\\nSkipping line 317: expected 5 fields, saw 6\\nSkipping line 326: expected 5 fields, saw 6\\nSkipping line 328: expected 5 fields, saw 6\\nSkipping line 350: expected 5 fields, saw 6\\nSkipping line 366: expected 5 fields, saw 6\\nSkipping line 369: expected 5 fields, saw 6\\nSkipping line 375: expected 5 fields, saw 6\\nSkipping line 379: expected 5 fields, saw 6\\nSkipping line 387: expected 5 fields, saw 6\\nSkipping line 389: expected 5 fields, saw 6\\nSkipping line 405: expected 5 fields, saw 6\\nSkipping line 413: expected 5 fields, saw 6\\nSkipping line 417: expected 5 fields, saw 6\\nSkipping line 418: expected 5 fields, saw 6\\nSkipping line 420: expected 5 fields, saw 6\\nSkipping line 421: expected 5 fields, saw 6\\nSkipping line 423: expected 5 fields, saw 6\\nSkipping line 428: expected 5 fields, saw 6\\nSkipping line 436: expected 5 fields, saw 6\\nSkipping line 438: expected 5 fields, saw 6\\nSkipping line 444: expected 5 fields, saw 6\\nSkipping line 447: expected 5 fields, saw 6\\nSkipping line 448: expected 5 fields, saw 6\\nSkipping line 449: expected 5 fields, saw 6\\nSkipping line 451: expected 5 fields, saw 6\\nSkipping line 453: expected 5 fields, saw 6\\nSkipping line 454: expected 5 fields, saw 6\\nSkipping line 465: expected 5 fields, saw 6\\nSkipping line 466: expected 5 fields, saw 6\\nSkipping line 467: expected 5 fields, saw 6\\nSkipping line 473: expected 5 fields, saw 6\\nSkipping line 474: expected 5 fields, saw 6\\nSkipping line 482: expected 5 fields, saw 6\\nSkipping line 488: expected 5 fields, saw 6\\nSkipping line 493: expected 5 fields, saw 6\\nSkipping line 495: expected 5 fields, saw 6\\nSkipping line 508: expected 5 fields, saw 6\\nSkipping line 512: expected 5 fields, saw 6\\nSkipping line 535: expected 5 fields, saw 6\\n'\n",
      "b'Skipping line 5: expected 5 fields, saw 6\\nSkipping line 6: expected 5 fields, saw 6\\nSkipping line 15: expected 5 fields, saw 6\\nSkipping line 17: expected 5 fields, saw 6\\nSkipping line 26: expected 5 fields, saw 6\\nSkipping line 33: expected 5 fields, saw 6\\nSkipping line 39: expected 5 fields, saw 6\\nSkipping line 45: expected 5 fields, saw 6\\nSkipping line 52: expected 5 fields, saw 6\\nSkipping line 53: expected 5 fields, saw 6\\nSkipping line 55: expected 5 fields, saw 6\\nSkipping line 59: expected 5 fields, saw 6\\nSkipping line 60: expected 5 fields, saw 6\\nSkipping line 65: expected 5 fields, saw 6\\nSkipping line 66: expected 5 fields, saw 6\\nSkipping line 72: expected 5 fields, saw 6\\nSkipping line 73: expected 5 fields, saw 6\\nSkipping line 78: expected 5 fields, saw 6\\nSkipping line 84: expected 5 fields, saw 6\\nSkipping line 87: expected 5 fields, saw 6\\nSkipping line 89: expected 5 fields, saw 6\\nSkipping line 90: expected 5 fields, saw 6\\nSkipping line 92: expected 5 fields, saw 6\\nSkipping line 94: expected 5 fields, saw 6\\nSkipping line 96: expected 5 fields, saw 6\\nSkipping line 103: expected 5 fields, saw 6\\nSkipping line 106: expected 5 fields, saw 6\\nSkipping line 109: expected 5 fields, saw 6\\nSkipping line 120: expected 5 fields, saw 6\\nSkipping line 125: expected 5 fields, saw 6\\nSkipping line 127: expected 5 fields, saw 6\\nSkipping line 130: expected 5 fields, saw 6\\nSkipping line 136: expected 5 fields, saw 6\\nSkipping line 138: expected 5 fields, saw 6\\nSkipping line 143: expected 5 fields, saw 6\\nSkipping line 144: expected 5 fields, saw 6\\nSkipping line 159: expected 5 fields, saw 6\\nSkipping line 163: expected 5 fields, saw 6\\nSkipping line 164: expected 5 fields, saw 6\\nSkipping line 169: expected 5 fields, saw 6\\nSkipping line 173: expected 5 fields, saw 6\\nSkipping line 175: expected 5 fields, saw 6\\nSkipping line 178: expected 5 fields, saw 6\\nSkipping line 187: expected 5 fields, saw 6\\nSkipping line 188: expected 5 fields, saw 6\\nSkipping line 190: expected 5 fields, saw 6\\nSkipping line 194: expected 5 fields, saw 6\\nSkipping line 199: expected 5 fields, saw 6\\nSkipping line 205: expected 5 fields, saw 6\\nSkipping line 217: expected 5 fields, saw 6\\nSkipping line 219: expected 5 fields, saw 6\\nSkipping line 221: expected 5 fields, saw 6\\nSkipping line 225: expected 5 fields, saw 6\\nSkipping line 227: expected 5 fields, saw 6\\n'\n",
      "C:\\Users\\YESIM\\Anaconda3\\lib\\site-packages\\sklearn\\metrics\\classification.py:976: DeprecationWarning: From version 0.18, binary input will not be handled specially when using averaged precision/recall/F-score. Please use average='binary' to report only the positive class performance.\n",
      "  'positive class performance.', DeprecationWarning)\n"
     ]
    },
    {
     "name": "stdout",
     "output_type": "stream",
     "text": [
      "Accuracy: 0.965267\n",
      "Precision: 0.988630\n",
      "Recall: 0.985132\n",
      "F1 score(micro): 0.981619\n",
      "TN/(TN+FN): 0.646018 -- Increases fundamentaly.\n"
     ]
    }
   ],
   "source": [
    "#Performance Evaluation on Previous Top50 Dataset\n",
    "\n",
    "import glob\n",
    "import pandas as pd\n",
    "\n",
    "# get data file names\n",
    "path =r\"C:/Users/YESIM/Desktop/TEXT MINING PROJECT/AMSTERDAM/RESTAURANTS/Top 50\"\n",
    "filenames = glob.glob(path + \"/*.csv\")\n",
    "\n",
    "dfs = []\n",
    "for filename in filenames:\n",
    "    dfs.append(pd.read_csv(filename, error_bad_lines=False) )\n",
    "\n",
    "# Concatenate all data into one DataFrame\n",
    "df = pd.concat(dfs, ignore_index=True)\n",
    "\n",
    "#Data Preparation\n",
    "\n",
    "import numpy as np \n",
    "\n",
    "df = df.fillna(value=str(0))\n",
    "\n",
    "df[\"full_text\"] = df[\"title\"] + \". \" + df[\"review\"]\n",
    "\n",
    "#Reviews with 3 stars or lower are negative sentiment and others are positive sentiment \n",
    "def get_class(stars):\n",
    "    score = int(stars[0])\n",
    "    if score > 3:\n",
    "        return 1\n",
    "    else:\n",
    "        return 0\n",
    "\n",
    "def review_count(review_count):\n",
    "    return review_count[0]\n",
    "\n",
    "def help_count(help_count):\n",
    "    return help_count[0]\n",
    "\n",
    "def del_more(full_text):\n",
    "    if full_text[-1] == \"e\" and full_text[-2] == \"r\" and full_text[-3] == \"o\" and full_text[-4] == \"M\":\n",
    "        return full_text[0:-8]\n",
    "    else:\n",
    "        return full_text\n",
    "    \n",
    "df[\"review count\"] = df[\"review_count\"].apply(review_count).astype(int)\n",
    "df[\"help count\"] = df[\"help_count\"].apply(help_count).astype(int)\n",
    "df[\"sentiment\"] = df[\"stars\"].apply(get_class)\n",
    "df[\"id\"] = range(0,len(df))\n",
    "df[\"full_text\"] = df[\"full_text\"].apply(del_more)\n",
    "\n",
    "df_old = df[[\"full_text\", \"sentiment\"]]\n",
    "\n",
    "#Generating the same splits as in part 1\n",
    "X_old = df_old[\"full_text\"].values\n",
    "y_old = df_old[\"sentiment\"].values\n",
    "from sklearn.cross_validation import train_test_split\n",
    "X_old_train, X_old_test, y_old_train,y_old_test = train_test_split(X_old, y_old, test_size=0.33, random_state=1)\n",
    "\n",
    "pred = lr_tfidf.predict(X_old_test)\n",
    "Accuracy = lr_tfidf.score(X_old_test, y_old_test)\n",
    "\n",
    "from sklearn.metrics import average_precision_score, recall_score\n",
    "\n",
    "precision = average_precision_score(y_old_test, pred)\n",
    "recall = recall_score(y_old_test, pred)\n",
    "from sklearn.metrics import f1_score\n",
    "f_score = f1_score(y_old_test, pred, average = \"micro\")\n",
    "\n",
    "print(\"Accuracy: %f\\nPrecision: %f\\nRecall: %f\\nF1 score(micro): %f\" %(Accuracy, precision ,recall, f_score))\n",
    "TN_Ratio = 1 - (np.sum(pred[y_old_test == 0])/len(pred[y_old_test == 0]))\n",
    "print(\"TN/(TN+FN): %f -- Increases fundamentaly.\" %TN_Ratio )\n"
   ]
  },
  {
   "cell_type": "code",
   "execution_count": null,
   "metadata": {
    "collapsed": true
   },
   "outputs": [],
   "source": []
  }
 ],
 "metadata": {
  "kernelspec": {
   "display_name": "Python 3",
   "language": "python",
   "name": "python3"
  },
  "language_info": {
   "codemirror_mode": {
    "name": "ipython",
    "version": 3
   },
   "file_extension": ".py",
   "mimetype": "text/x-python",
   "name": "python",
   "nbconvert_exporter": "python",
   "pygments_lexer": "ipython3",
   "version": "3.5.1"
  }
 },
 "nbformat": 4,
 "nbformat_minor": 0
}
